{
 "cells": [
  {
   "cell_type": "code",
   "execution_count": 1,
   "metadata": {},
   "outputs": [],
   "source": [
    "import pandas as pd\n",
    "import numpy as np\n",
    "import seaborn as sb\n",
    "import matplotlib.pyplot as plt"
   ]
  },
  {
   "cell_type": "code",
   "execution_count": 2,
   "metadata": {},
   "outputs": [],
   "source": [
    "df1 = pd.read_csv(\"marketing_campaign.csv\", sep='\\t')"
   ]
  },
  {
   "cell_type": "markdown",
   "metadata": {},
   "source": [
    "Since in the documentation, we only have explanation for the first 10 variables, we drop others"
   ]
  },
  {
   "cell_type": "code",
   "execution_count": 3,
   "metadata": {},
   "outputs": [],
   "source": [
    "df2 = df1.iloc[:,:10]     "
   ]
  },
  {
   "cell_type": "code",
   "execution_count": 34,
   "metadata": {},
   "outputs": [
    {
     "data": {
      "text/html": [
       "<div>\n",
       "<style scoped>\n",
       "    .dataframe tbody tr th:only-of-type {\n",
       "        vertical-align: middle;\n",
       "    }\n",
       "\n",
       "    .dataframe tbody tr th {\n",
       "        vertical-align: top;\n",
       "    }\n",
       "\n",
       "    .dataframe thead th {\n",
       "        text-align: right;\n",
       "    }\n",
       "</style>\n",
       "<table border=\"1\" class=\"dataframe\">\n",
       "  <thead>\n",
       "    <tr style=\"text-align: right;\">\n",
       "      <th></th>\n",
       "      <th>ID</th>\n",
       "      <th>Year_Birth</th>\n",
       "      <th>Education</th>\n",
       "      <th>Marital_Status</th>\n",
       "      <th>Income</th>\n",
       "      <th>Kidhome</th>\n",
       "      <th>Teenhome</th>\n",
       "      <th>Dt_Customer</th>\n",
       "      <th>Recency</th>\n",
       "      <th>MntWines</th>\n",
       "    </tr>\n",
       "  </thead>\n",
       "  <tbody>\n",
       "    <tr>\n",
       "      <th>0</th>\n",
       "      <td>5524</td>\n",
       "      <td>1957</td>\n",
       "      <td>Graduation</td>\n",
       "      <td>Single</td>\n",
       "      <td>58138.0</td>\n",
       "      <td>0</td>\n",
       "      <td>0</td>\n",
       "      <td>04-09-2012</td>\n",
       "      <td>58</td>\n",
       "      <td>635</td>\n",
       "    </tr>\n",
       "    <tr>\n",
       "      <th>1</th>\n",
       "      <td>2174</td>\n",
       "      <td>1954</td>\n",
       "      <td>Graduation</td>\n",
       "      <td>Single</td>\n",
       "      <td>46344.0</td>\n",
       "      <td>1</td>\n",
       "      <td>1</td>\n",
       "      <td>08-03-2014</td>\n",
       "      <td>38</td>\n",
       "      <td>11</td>\n",
       "    </tr>\n",
       "    <tr>\n",
       "      <th>2</th>\n",
       "      <td>4141</td>\n",
       "      <td>1965</td>\n",
       "      <td>Graduation</td>\n",
       "      <td>Together</td>\n",
       "      <td>71613.0</td>\n",
       "      <td>0</td>\n",
       "      <td>0</td>\n",
       "      <td>21-08-2013</td>\n",
       "      <td>26</td>\n",
       "      <td>426</td>\n",
       "    </tr>\n",
       "    <tr>\n",
       "      <th>3</th>\n",
       "      <td>6182</td>\n",
       "      <td>1984</td>\n",
       "      <td>Graduation</td>\n",
       "      <td>Together</td>\n",
       "      <td>26646.0</td>\n",
       "      <td>1</td>\n",
       "      <td>0</td>\n",
       "      <td>10-02-2014</td>\n",
       "      <td>26</td>\n",
       "      <td>11</td>\n",
       "    </tr>\n",
       "    <tr>\n",
       "      <th>4</th>\n",
       "      <td>5324</td>\n",
       "      <td>1981</td>\n",
       "      <td>PhD</td>\n",
       "      <td>Married</td>\n",
       "      <td>58293.0</td>\n",
       "      <td>1</td>\n",
       "      <td>0</td>\n",
       "      <td>19-01-2014</td>\n",
       "      <td>94</td>\n",
       "      <td>173</td>\n",
       "    </tr>\n",
       "    <tr>\n",
       "      <th>...</th>\n",
       "      <td>...</td>\n",
       "      <td>...</td>\n",
       "      <td>...</td>\n",
       "      <td>...</td>\n",
       "      <td>...</td>\n",
       "      <td>...</td>\n",
       "      <td>...</td>\n",
       "      <td>...</td>\n",
       "      <td>...</td>\n",
       "      <td>...</td>\n",
       "    </tr>\n",
       "    <tr>\n",
       "      <th>2235</th>\n",
       "      <td>10870</td>\n",
       "      <td>1967</td>\n",
       "      <td>Graduation</td>\n",
       "      <td>Married</td>\n",
       "      <td>61223.0</td>\n",
       "      <td>0</td>\n",
       "      <td>1</td>\n",
       "      <td>13-06-2013</td>\n",
       "      <td>46</td>\n",
       "      <td>709</td>\n",
       "    </tr>\n",
       "    <tr>\n",
       "      <th>2236</th>\n",
       "      <td>4001</td>\n",
       "      <td>1946</td>\n",
       "      <td>PhD</td>\n",
       "      <td>Together</td>\n",
       "      <td>64014.0</td>\n",
       "      <td>2</td>\n",
       "      <td>1</td>\n",
       "      <td>10-06-2014</td>\n",
       "      <td>56</td>\n",
       "      <td>406</td>\n",
       "    </tr>\n",
       "    <tr>\n",
       "      <th>2237</th>\n",
       "      <td>7270</td>\n",
       "      <td>1981</td>\n",
       "      <td>Graduation</td>\n",
       "      <td>Divorced</td>\n",
       "      <td>56981.0</td>\n",
       "      <td>0</td>\n",
       "      <td>0</td>\n",
       "      <td>25-01-2014</td>\n",
       "      <td>91</td>\n",
       "      <td>908</td>\n",
       "    </tr>\n",
       "    <tr>\n",
       "      <th>2238</th>\n",
       "      <td>8235</td>\n",
       "      <td>1956</td>\n",
       "      <td>Master</td>\n",
       "      <td>Together</td>\n",
       "      <td>69245.0</td>\n",
       "      <td>0</td>\n",
       "      <td>1</td>\n",
       "      <td>24-01-2014</td>\n",
       "      <td>8</td>\n",
       "      <td>428</td>\n",
       "    </tr>\n",
       "    <tr>\n",
       "      <th>2239</th>\n",
       "      <td>9405</td>\n",
       "      <td>1954</td>\n",
       "      <td>PhD</td>\n",
       "      <td>Married</td>\n",
       "      <td>52869.0</td>\n",
       "      <td>1</td>\n",
       "      <td>1</td>\n",
       "      <td>15-10-2012</td>\n",
       "      <td>40</td>\n",
       "      <td>84</td>\n",
       "    </tr>\n",
       "  </tbody>\n",
       "</table>\n",
       "<p>2240 rows × 10 columns</p>\n",
       "</div>"
      ],
      "text/plain": [
       "         ID  Year_Birth   Education Marital_Status   Income  Kidhome  \\\n",
       "0      5524        1957  Graduation         Single  58138.0        0   \n",
       "1      2174        1954  Graduation         Single  46344.0        1   \n",
       "2      4141        1965  Graduation       Together  71613.0        0   \n",
       "3      6182        1984  Graduation       Together  26646.0        1   \n",
       "4      5324        1981         PhD        Married  58293.0        1   \n",
       "...     ...         ...         ...            ...      ...      ...   \n",
       "2235  10870        1967  Graduation        Married  61223.0        0   \n",
       "2236   4001        1946         PhD       Together  64014.0        2   \n",
       "2237   7270        1981  Graduation       Divorced  56981.0        0   \n",
       "2238   8235        1956      Master       Together  69245.0        0   \n",
       "2239   9405        1954         PhD        Married  52869.0        1   \n",
       "\n",
       "      Teenhome Dt_Customer  Recency  MntWines  \n",
       "0            0  04-09-2012       58       635  \n",
       "1            1  08-03-2014       38        11  \n",
       "2            0  21-08-2013       26       426  \n",
       "3            0  10-02-2014       26        11  \n",
       "4            0  19-01-2014       94       173  \n",
       "...        ...         ...      ...       ...  \n",
       "2235         1  13-06-2013       46       709  \n",
       "2236         1  10-06-2014       56       406  \n",
       "2237         0  25-01-2014       91       908  \n",
       "2238         1  24-01-2014        8       428  \n",
       "2239         1  15-10-2012       40        84  \n",
       "\n",
       "[2240 rows x 10 columns]"
      ]
     },
     "execution_count": 34,
     "metadata": {},
     "output_type": "execute_result"
    }
   ],
   "source": [
    "df2"
   ]
  },
  {
   "cell_type": "markdown",
   "metadata": {},
   "source": [
    "Now we identify the type of each variable.\n",
    "\n",
    "ID is nominal.<br>\n",
    "Year_Birth is ordinal.<br>\n",
    "Education is nominal.<br>\n",
    "Marital_Status is nominal.<br>\n",
    "Income is numerical.<br>\n",
    "Kidhome is numerical.<br>\n",
    "Teenhome is numerical.<br>\n",
    "Dt_Customer is ordinal.<br>\n",
    "Recency is numerical.<br>\n",
    "MintWine is numerical.<br>\n"
   ]
  },
  {
   "cell_type": "code",
   "execution_count": 5,
   "metadata": {},
   "outputs": [
    {
     "data": {
      "text/plain": [
       "ID                  int64\n",
       "Year_Birth          int64\n",
       "Education          object\n",
       "Marital_Status     object\n",
       "Income            float64\n",
       "Kidhome             int64\n",
       "Teenhome            int64\n",
       "Dt_Customer        object\n",
       "Recency             int64\n",
       "MntWines            int64\n",
       "dtype: object"
      ]
     },
     "execution_count": 5,
     "metadata": {},
     "output_type": "execute_result"
    }
   ],
   "source": [
    "df2.dtypes"
   ]
  },
  {
   "cell_type": "markdown",
   "metadata": {},
   "source": [
    "#### Then, we deal with the missing values.<br>"
   ]
  },
  {
   "cell_type": "code",
   "execution_count": 6,
   "metadata": {},
   "outputs": [
    {
     "data": {
      "text/plain": [
       "ID                0.000000\n",
       "Year_Birth        0.000000\n",
       "Education         0.000000\n",
       "Marital_Status    0.000000\n",
       "Income            0.010714\n",
       "Kidhome           0.000000\n",
       "Teenhome          0.000000\n",
       "Dt_Customer       0.000000\n",
       "Recency           0.000000\n",
       "MntWines          0.000000\n",
       "dtype: float64"
      ]
     },
     "execution_count": 6,
     "metadata": {},
     "output_type": "execute_result"
    }
   ],
   "source": [
    "pd.isnull(df2).mean()"
   ]
  },
  {
   "cell_type": "markdown",
   "metadata": {},
   "source": [
    "So, only Income contains missing values.<br>\n",
    "For simplicity, we assume it to be missing completely at random. (We didn't do hypothesis test to test this since the main task of this project is clustering not missing type analysis). So, we just drop these."
   ]
  },
  {
   "cell_type": "code",
   "execution_count": 7,
   "metadata": {},
   "outputs": [],
   "source": [
    "df3 = df2[~pd.isnull(df2[\"Income\"])]"
   ]
  },
  {
   "cell_type": "markdown",
   "metadata": {},
   "source": [
    "#### Now, we do some type conversion and feature engineering"
   ]
  },
  {
   "cell_type": "markdown",
   "metadata": {},
   "source": [
    "We will drop ID column, since it means nothing in clustering"
   ]
  },
  {
   "cell_type": "markdown",
   "metadata": {},
   "source": [
    "We will convert Year_Birth to age and standardize it."
   ]
  },
  {
   "cell_type": "code",
   "execution_count": 8,
   "metadata": {},
   "outputs": [],
   "source": [
    "age = 2021 - df3[\"Year_Birth\"]\n",
    "std_age = (age - np.mean(age))/np.std(age)"
   ]
  },
  {
   "cell_type": "markdown",
   "metadata": {},
   "source": [
    "We will do One-hot encoding on Education"
   ]
  },
  {
   "cell_type": "code",
   "execution_count": 9,
   "metadata": {},
   "outputs": [
    {
     "data": {
      "text/plain": [
       "Graduation    1116\n",
       "PhD            481\n",
       "Master         365\n",
       "2n Cycle       200\n",
       "Basic           54\n",
       "Name: Education, dtype: int64"
      ]
     },
     "execution_count": 9,
     "metadata": {},
     "output_type": "execute_result"
    }
   ],
   "source": [
    "df3[\"Education\"].value_counts()"
   ]
  },
  {
   "cell_type": "code",
   "execution_count": 10,
   "metadata": {},
   "outputs": [],
   "source": [
    "Graduation = (df3[\"Education\"] == \"Graduation\").astype(int)\n",
    "PhD = (df3[\"Education\"] == \"PhD\").astype(int)\n",
    "Master = (df3[\"Education\"] == \"Master\").astype(int)\n",
    "Cycle = (df3[\"Education\"] == \"2n Cycle\").astype(int)\n",
    "Basic = (df3[\"Education\"] == \"Bsic\").astype(int)"
   ]
  },
  {
   "cell_type": "markdown",
   "metadata": {},
   "source": [
    "We will do One-hot encoding on Marital status"
   ]
  },
  {
   "cell_type": "code",
   "execution_count": 11,
   "metadata": {},
   "outputs": [
    {
     "data": {
      "text/plain": [
       "Married     857\n",
       "Together    573\n",
       "Single      471\n",
       "Divorced    232\n",
       "Widow        76\n",
       "Alone         3\n",
       "Absurd        2\n",
       "YOLO          2\n",
       "Name: Marital_Status, dtype: int64"
      ]
     },
     "execution_count": 11,
     "metadata": {},
     "output_type": "execute_result"
    }
   ],
   "source": [
    "df3[\"Marital_Status\"].value_counts()"
   ]
  },
  {
   "cell_type": "code",
   "execution_count": 12,
   "metadata": {},
   "outputs": [],
   "source": [
    "Married = (df3[\"Marital_Status\"] == \"Married\").astype(int)\n",
    "Together = (df3[\"Marital_Status\"] == \"Together\").astype(int)\n",
    "Single = (df3[\"Marital_Status\"] == \"Single\").astype(int)\n",
    "Divorced = (df3[\"Marital_Status\"] == \"Divorced\").astype(int)\n",
    "Widow =  (df3[\"Marital_Status\"] == \"Widow\").astype(int)\n",
    "Others = ((df3[\"Marital_Status\"] == \"Alone\")|(df3[\"Marital_Status\"] == \"Absurd\")|(df3[\"Marital_Status\"] == \"YOLO\")).astype(int)"
   ]
  },
  {
   "cell_type": "markdown",
   "metadata": {},
   "source": [
    "We standardize income, kids and teens"
   ]
  },
  {
   "cell_type": "code",
   "execution_count": 13,
   "metadata": {},
   "outputs": [],
   "source": [
    "std_income = (df3[\"Income\"] - np.mean(df3[\"Income\"]))/np.std(df3[\"Income\"])"
   ]
  },
  {
   "cell_type": "code",
   "execution_count": 14,
   "metadata": {},
   "outputs": [],
   "source": [
    "std_kid = (df3[\"Kidhome\"] - np.mean(df3[\"Kidhome\"]))/np.std(df3[\"Kidhome\"])"
   ]
  },
  {
   "cell_type": "code",
   "execution_count": 15,
   "metadata": {},
   "outputs": [],
   "source": [
    "std_teen = (df3[\"Teenhome\"] - np.mean(df3[\"Teenhome\"]))/np.std(df3[\"Teenhome\"])"
   ]
  },
  {
   "cell_type": "markdown",
   "metadata": {},
   "source": [
    "For Dt_Customer, we first find the first enrolled customer and calculate the day difference between others and the first enrolled customer. We standarize it."
   ]
  },
  {
   "cell_type": "code",
   "execution_count": 16,
   "metadata": {},
   "outputs": [],
   "source": [
    "min_date = min(df3[\"Dt_Customer\"].apply(lambda x: pd.to_datetime(x)))"
   ]
  },
  {
   "cell_type": "code",
   "execution_count": 17,
   "metadata": {},
   "outputs": [],
   "source": [
    "date1 = df3[\"Dt_Customer\"].apply(lambda x: pd.to_datetime(x))"
   ]
  },
  {
   "cell_type": "code",
   "execution_count": 18,
   "metadata": {},
   "outputs": [],
   "source": [
    "day_diff = (date1 - min_date).astype(str).apply(lambda x: x.split()[0]).astype(int)"
   ]
  },
  {
   "cell_type": "code",
   "execution_count": 19,
   "metadata": {},
   "outputs": [],
   "source": [
    "std_day_diff = (day_diff - np.mean(day_diff))/np.std(day_diff)"
   ]
  },
  {
   "cell_type": "markdown",
   "metadata": {},
   "source": [
    "We standardize Recency"
   ]
  },
  {
   "cell_type": "code",
   "execution_count": 20,
   "metadata": {},
   "outputs": [],
   "source": [
    "std_recency = (df3[\"Recency\"] - np.mean(df3[\"Recency\"]))/np.std(df3[\"Recency\"])"
   ]
  },
  {
   "cell_type": "code",
   "execution_count": 21,
   "metadata": {},
   "outputs": [],
   "source": [
    "std_mntwines = (df3[\"MntWines\"] - np.mean(df3[\"MntWines\"]))/np.std(df3[\"MntWines\"])"
   ]
  },
  {
   "cell_type": "markdown",
   "metadata": {},
   "source": [
    "Output df"
   ]
  },
  {
   "cell_type": "code",
   "execution_count": 22,
   "metadata": {},
   "outputs": [],
   "source": [
    "df4 = pd.DataFrame({\"Age\":std_age, \"Income\":std_income, \"MntWines\":std_mntwines, \"Kids\":std_kid, \"Teens\":std_teen, \"Enroll_age\":std_day_diff, \"Recency\":std_recency, \"Graduation\":Graduation, \"PhD\":PhD, \"Master\":Master, \"Cycle\":Cycle, \"Basic\":Basic, \"Married\":Married, \"Together\":Together, \"Single\":Single, \"Divorced\":Divorced, \"Widow\":Widow, \"Others\":Others})"
   ]
  },
  {
   "cell_type": "code",
   "execution_count": 23,
   "metadata": {},
   "outputs": [],
   "source": [
    "df5 = df4.reset_index(drop = True)"
   ]
  },
  {
   "cell_type": "code",
   "execution_count": 24,
   "metadata": {},
   "outputs": [
    {
     "data": {
      "text/html": [
       "<div>\n",
       "<style scoped>\n",
       "    .dataframe tbody tr th:only-of-type {\n",
       "        vertical-align: middle;\n",
       "    }\n",
       "\n",
       "    .dataframe tbody tr th {\n",
       "        vertical-align: top;\n",
       "    }\n",
       "\n",
       "    .dataframe thead th {\n",
       "        text-align: right;\n",
       "    }\n",
       "</style>\n",
       "<table border=\"1\" class=\"dataframe\">\n",
       "  <thead>\n",
       "    <tr style=\"text-align: right;\">\n",
       "      <th></th>\n",
       "      <th>Age</th>\n",
       "      <th>Income</th>\n",
       "      <th>MntWines</th>\n",
       "      <th>Kids</th>\n",
       "      <th>Teens</th>\n",
       "      <th>Enroll_age</th>\n",
       "      <th>Recency</th>\n",
       "      <th>Graduation</th>\n",
       "      <th>PhD</th>\n",
       "      <th>Master</th>\n",
       "      <th>Cycle</th>\n",
       "      <th>Basic</th>\n",
       "      <th>Married</th>\n",
       "      <th>Together</th>\n",
       "      <th>Single</th>\n",
       "      <th>Divorced</th>\n",
       "      <th>Widow</th>\n",
       "      <th>Others</th>\n",
       "    </tr>\n",
       "  </thead>\n",
       "  <tbody>\n",
       "    <tr>\n",
       "      <th>0</th>\n",
       "      <td>0.986443</td>\n",
       "      <td>0.234063</td>\n",
       "      <td>0.978226</td>\n",
       "      <td>-0.823039</td>\n",
       "      <td>-0.928972</td>\n",
       "      <td>-1.974875</td>\n",
       "      <td>0.310532</td>\n",
       "      <td>1</td>\n",
       "      <td>0</td>\n",
       "      <td>0</td>\n",
       "      <td>0</td>\n",
       "      <td>0</td>\n",
       "      <td>0</td>\n",
       "      <td>0</td>\n",
       "      <td>1</td>\n",
       "      <td>0</td>\n",
       "      <td>0</td>\n",
       "      <td>0</td>\n",
       "    </tr>\n",
       "    <tr>\n",
       "      <th>1</th>\n",
       "      <td>1.236801</td>\n",
       "      <td>-0.234559</td>\n",
       "      <td>-0.872024</td>\n",
       "      <td>1.039938</td>\n",
       "      <td>0.909066</td>\n",
       "      <td>1.665141</td>\n",
       "      <td>-0.380509</td>\n",
       "      <td>1</td>\n",
       "      <td>0</td>\n",
       "      <td>0</td>\n",
       "      <td>0</td>\n",
       "      <td>0</td>\n",
       "      <td>0</td>\n",
       "      <td>0</td>\n",
       "      <td>1</td>\n",
       "      <td>0</td>\n",
       "      <td>0</td>\n",
       "      <td>0</td>\n",
       "    </tr>\n",
       "    <tr>\n",
       "      <th>2</th>\n",
       "      <td>0.318822</td>\n",
       "      <td>0.769478</td>\n",
       "      <td>0.358511</td>\n",
       "      <td>-0.823039</td>\n",
       "      <td>-0.928972</td>\n",
       "      <td>0.172132</td>\n",
       "      <td>-0.795134</td>\n",
       "      <td>1</td>\n",
       "      <td>0</td>\n",
       "      <td>0</td>\n",
       "      <td>0</td>\n",
       "      <td>0</td>\n",
       "      <td>0</td>\n",
       "      <td>1</td>\n",
       "      <td>0</td>\n",
       "      <td>0</td>\n",
       "      <td>0</td>\n",
       "      <td>0</td>\n",
       "    </tr>\n",
       "    <tr>\n",
       "      <th>3</th>\n",
       "      <td>-1.266777</td>\n",
       "      <td>-1.017239</td>\n",
       "      <td>-0.872024</td>\n",
       "      <td>1.039938</td>\n",
       "      <td>-0.928972</td>\n",
       "      <td>1.923298</td>\n",
       "      <td>-0.795134</td>\n",
       "      <td>1</td>\n",
       "      <td>0</td>\n",
       "      <td>0</td>\n",
       "      <td>0</td>\n",
       "      <td>0</td>\n",
       "      <td>0</td>\n",
       "      <td>1</td>\n",
       "      <td>0</td>\n",
       "      <td>0</td>\n",
       "      <td>0</td>\n",
       "      <td>0</td>\n",
       "    </tr>\n",
       "    <tr>\n",
       "      <th>4</th>\n",
       "      <td>-1.016420</td>\n",
       "      <td>0.240221</td>\n",
       "      <td>-0.391671</td>\n",
       "      <td>1.039938</td>\n",
       "      <td>-0.928972</td>\n",
       "      <td>0.821827</td>\n",
       "      <td>1.554407</td>\n",
       "      <td>0</td>\n",
       "      <td>1</td>\n",
       "      <td>0</td>\n",
       "      <td>0</td>\n",
       "      <td>0</td>\n",
       "      <td>1</td>\n",
       "      <td>0</td>\n",
       "      <td>0</td>\n",
       "      <td>0</td>\n",
       "      <td>0</td>\n",
       "      <td>0</td>\n",
       "    </tr>\n",
       "    <tr>\n",
       "      <th>...</th>\n",
       "      <td>...</td>\n",
       "      <td>...</td>\n",
       "      <td>...</td>\n",
       "      <td>...</td>\n",
       "      <td>...</td>\n",
       "      <td>...</td>\n",
       "      <td>...</td>\n",
       "      <td>...</td>\n",
       "      <td>...</td>\n",
       "      <td>...</td>\n",
       "      <td>...</td>\n",
       "      <td>...</td>\n",
       "      <td>...</td>\n",
       "      <td>...</td>\n",
       "      <td>...</td>\n",
       "      <td>...</td>\n",
       "      <td>...</td>\n",
       "      <td>...</td>\n",
       "    </tr>\n",
       "    <tr>\n",
       "      <th>2211</th>\n",
       "      <td>0.151917</td>\n",
       "      <td>0.356642</td>\n",
       "      <td>1.197646</td>\n",
       "      <td>-0.823039</td>\n",
       "      <td>0.909066</td>\n",
       "      <td>-0.124749</td>\n",
       "      <td>-0.104093</td>\n",
       "      <td>1</td>\n",
       "      <td>0</td>\n",
       "      <td>0</td>\n",
       "      <td>0</td>\n",
       "      <td>0</td>\n",
       "      <td>1</td>\n",
       "      <td>0</td>\n",
       "      <td>0</td>\n",
       "      <td>0</td>\n",
       "      <td>0</td>\n",
       "      <td>0</td>\n",
       "    </tr>\n",
       "    <tr>\n",
       "      <th>2212</th>\n",
       "      <td>1.904422</td>\n",
       "      <td>0.467539</td>\n",
       "      <td>0.299208</td>\n",
       "      <td>2.902916</td>\n",
       "      <td>0.909066</td>\n",
       "      <td>1.940508</td>\n",
       "      <td>0.241428</td>\n",
       "      <td>0</td>\n",
       "      <td>1</td>\n",
       "      <td>0</td>\n",
       "      <td>0</td>\n",
       "      <td>0</td>\n",
       "      <td>0</td>\n",
       "      <td>1</td>\n",
       "      <td>0</td>\n",
       "      <td>0</td>\n",
       "      <td>0</td>\n",
       "      <td>0</td>\n",
       "    </tr>\n",
       "    <tr>\n",
       "      <th>2213</th>\n",
       "      <td>-1.016420</td>\n",
       "      <td>0.188091</td>\n",
       "      <td>1.787710</td>\n",
       "      <td>-0.823039</td>\n",
       "      <td>-0.928972</td>\n",
       "      <td>0.847643</td>\n",
       "      <td>1.450751</td>\n",
       "      <td>1</td>\n",
       "      <td>0</td>\n",
       "      <td>0</td>\n",
       "      <td>0</td>\n",
       "      <td>0</td>\n",
       "      <td>0</td>\n",
       "      <td>0</td>\n",
       "      <td>0</td>\n",
       "      <td>1</td>\n",
       "      <td>0</td>\n",
       "      <td>0</td>\n",
       "    </tr>\n",
       "    <tr>\n",
       "      <th>2214</th>\n",
       "      <td>1.069896</td>\n",
       "      <td>0.675388</td>\n",
       "      <td>0.364441</td>\n",
       "      <td>-0.823039</td>\n",
       "      <td>0.909066</td>\n",
       "      <td>0.843341</td>\n",
       "      <td>-1.417072</td>\n",
       "      <td>0</td>\n",
       "      <td>0</td>\n",
       "      <td>1</td>\n",
       "      <td>0</td>\n",
       "      <td>0</td>\n",
       "      <td>0</td>\n",
       "      <td>1</td>\n",
       "      <td>0</td>\n",
       "      <td>0</td>\n",
       "      <td>0</td>\n",
       "      <td>0</td>\n",
       "    </tr>\n",
       "    <tr>\n",
       "      <th>2215</th>\n",
       "      <td>1.236801</td>\n",
       "      <td>0.024705</td>\n",
       "      <td>-0.655568</td>\n",
       "      <td>1.039938</td>\n",
       "      <td>0.909066</td>\n",
       "      <td>-1.161680</td>\n",
       "      <td>-0.311405</td>\n",
       "      <td>0</td>\n",
       "      <td>1</td>\n",
       "      <td>0</td>\n",
       "      <td>0</td>\n",
       "      <td>0</td>\n",
       "      <td>1</td>\n",
       "      <td>0</td>\n",
       "      <td>0</td>\n",
       "      <td>0</td>\n",
       "      <td>0</td>\n",
       "      <td>0</td>\n",
       "    </tr>\n",
       "  </tbody>\n",
       "</table>\n",
       "<p>2216 rows × 18 columns</p>\n",
       "</div>"
      ],
      "text/plain": [
       "           Age    Income  MntWines      Kids     Teens  Enroll_age   Recency  \\\n",
       "0     0.986443  0.234063  0.978226 -0.823039 -0.928972   -1.974875  0.310532   \n",
       "1     1.236801 -0.234559 -0.872024  1.039938  0.909066    1.665141 -0.380509   \n",
       "2     0.318822  0.769478  0.358511 -0.823039 -0.928972    0.172132 -0.795134   \n",
       "3    -1.266777 -1.017239 -0.872024  1.039938 -0.928972    1.923298 -0.795134   \n",
       "4    -1.016420  0.240221 -0.391671  1.039938 -0.928972    0.821827  1.554407   \n",
       "...        ...       ...       ...       ...       ...         ...       ...   \n",
       "2211  0.151917  0.356642  1.197646 -0.823039  0.909066   -0.124749 -0.104093   \n",
       "2212  1.904422  0.467539  0.299208  2.902916  0.909066    1.940508  0.241428   \n",
       "2213 -1.016420  0.188091  1.787710 -0.823039 -0.928972    0.847643  1.450751   \n",
       "2214  1.069896  0.675388  0.364441 -0.823039  0.909066    0.843341 -1.417072   \n",
       "2215  1.236801  0.024705 -0.655568  1.039938  0.909066   -1.161680 -0.311405   \n",
       "\n",
       "      Graduation  PhD  Master  Cycle  Basic  Married  Together  Single  \\\n",
       "0              1    0       0      0      0        0         0       1   \n",
       "1              1    0       0      0      0        0         0       1   \n",
       "2              1    0       0      0      0        0         1       0   \n",
       "3              1    0       0      0      0        0         1       0   \n",
       "4              0    1       0      0      0        1         0       0   \n",
       "...          ...  ...     ...    ...    ...      ...       ...     ...   \n",
       "2211           1    0       0      0      0        1         0       0   \n",
       "2212           0    1       0      0      0        0         1       0   \n",
       "2213           1    0       0      0      0        0         0       0   \n",
       "2214           0    0       1      0      0        0         1       0   \n",
       "2215           0    1       0      0      0        1         0       0   \n",
       "\n",
       "      Divorced  Widow  Others  \n",
       "0            0      0       0  \n",
       "1            0      0       0  \n",
       "2            0      0       0  \n",
       "3            0      0       0  \n",
       "4            0      0       0  \n",
       "...        ...    ...     ...  \n",
       "2211         0      0       0  \n",
       "2212         0      0       0  \n",
       "2213         1      0       0  \n",
       "2214         0      0       0  \n",
       "2215         0      0       0  \n",
       "\n",
       "[2216 rows x 18 columns]"
      ]
     },
     "execution_count": 24,
     "metadata": {},
     "output_type": "execute_result"
    }
   ],
   "source": [
    "df5"
   ]
  },
  {
   "cell_type": "code",
   "execution_count": 25,
   "metadata": {},
   "outputs": [],
   "source": [
    "df5.to_csv(\"cleaned_data.csv\")"
   ]
  },
  {
   "cell_type": "code",
   "execution_count": 26,
   "metadata": {},
   "outputs": [],
   "source": [
    "# drop categorical columns\n",
    "df6 = df5.drop(['Graduation','PhD','Master','Cycle','Basic','Married','Together','Single','Divorced','Widow','Others'], axis=1)"
   ]
  },
  {
   "cell_type": "code",
   "execution_count": 37,
   "metadata": {},
   "outputs": [],
   "source": [
    "#create new columns by using formula\n",
    "df6['MntWines/Income'] = df3['MntWines'] / df3['Income']"
   ]
  },
  {
   "cell_type": "code",
   "execution_count": 38,
   "metadata": {},
   "outputs": [],
   "source": [
    "#drop Income and MntWines columns\n",
    "df7 = df6.drop([\"Income\",\"MntWines\"],axis=1)"
   ]
  },
  {
   "cell_type": "code",
   "execution_count": 39,
   "metadata": {},
   "outputs": [
    {
     "data": {
      "text/plain": [
       "[<matplotlib.lines.Line2D at 0x7f47bb35bbe0>]"
      ]
     },
     "execution_count": 39,
     "metadata": {},
     "output_type": "execute_result"
    },
    {
     "data": {
      "image/png": "[encoded data removed]",
      "text/plain": [
       "<Figure size 432x288 with 1 Axes>"
      ]
     },
     "metadata": {
      "needs_background": "light"
     },
     "output_type": "display_data"
    }
   ],
   "source": [
    "#plot the Mntwines/Income\n",
    "plt.plot(np.arange(2216),df7['MntWines/Income'],ls = 'dotted',lw=1)"
   ]
  },
  {
   "cell_type": "code",
   "execution_count": 40,
   "metadata": {},
   "outputs": [
    {
     "data": {
      "image/png": "[encoded data removed]",
      "text/plain": [
       "<Figure size 360x360 with 1 Axes>"
      ]
     },
     "metadata": {
      "needs_background": "light"
     },
     "output_type": "display_data"
    }
   ],
   "source": [
    "#density graph of the Mines/Income\n",
    "plt.figure(figsize = (5,5))\n",
    "sb.kdeplot(df7['MntWines/Income'] , fill = True)\n",
    "plt.show()"
   ]
  },
  {
   "cell_type": "code",
   "execution_count": 36,
   "metadata": {},
   "outputs": [
    {
     "data": {
      "text/html": [
       "<div>\n",
       "<style scoped>\n",
       "    .dataframe tbody tr th:only-of-type {\n",
       "        vertical-align: middle;\n",
       "    }\n",
       "\n",
       "    .dataframe tbody tr th {\n",
       "        vertical-align: top;\n",
       "    }\n",
       "\n",
       "    .dataframe thead th {\n",
       "        text-align: right;\n",
       "    }\n",
       "</style>\n",
       "<table border=\"1\" class=\"dataframe\">\n",
       "  <thead>\n",
       "    <tr style=\"text-align: right;\">\n",
       "      <th></th>\n",
       "      <th>Age</th>\n",
       "      <th>Kids</th>\n",
       "      <th>Teens</th>\n",
       "      <th>Enroll_age</th>\n",
       "      <th>Recency</th>\n",
       "      <th>MntWines/Income</th>\n",
       "    </tr>\n",
       "  </thead>\n",
       "  <tbody>\n",
       "    <tr>\n",
       "      <th>0</th>\n",
       "      <td>0.986443</td>\n",
       "      <td>-0.823039</td>\n",
       "      <td>-0.928972</td>\n",
       "      <td>-1.974875</td>\n",
       "      <td>0.310532</td>\n",
       "      <td>0.010922</td>\n",
       "    </tr>\n",
       "    <tr>\n",
       "      <th>1</th>\n",
       "      <td>1.236801</td>\n",
       "      <td>1.039938</td>\n",
       "      <td>0.909066</td>\n",
       "      <td>1.665141</td>\n",
       "      <td>-0.380509</td>\n",
       "      <td>0.000237</td>\n",
       "    </tr>\n",
       "    <tr>\n",
       "      <th>2</th>\n",
       "      <td>0.318822</td>\n",
       "      <td>-0.823039</td>\n",
       "      <td>-0.928972</td>\n",
       "      <td>0.172132</td>\n",
       "      <td>-0.795134</td>\n",
       "      <td>0.005949</td>\n",
       "    </tr>\n",
       "    <tr>\n",
       "      <th>3</th>\n",
       "      <td>-1.266777</td>\n",
       "      <td>1.039938</td>\n",
       "      <td>-0.928972</td>\n",
       "      <td>1.923298</td>\n",
       "      <td>-0.795134</td>\n",
       "      <td>0.000413</td>\n",
       "    </tr>\n",
       "    <tr>\n",
       "      <th>4</th>\n",
       "      <td>-1.016420</td>\n",
       "      <td>1.039938</td>\n",
       "      <td>-0.928972</td>\n",
       "      <td>0.821827</td>\n",
       "      <td>1.554407</td>\n",
       "      <td>0.002968</td>\n",
       "    </tr>\n",
       "    <tr>\n",
       "      <th>...</th>\n",
       "      <td>...</td>\n",
       "      <td>...</td>\n",
       "      <td>...</td>\n",
       "      <td>...</td>\n",
       "      <td>...</td>\n",
       "      <td>...</td>\n",
       "    </tr>\n",
       "    <tr>\n",
       "      <th>2211</th>\n",
       "      <td>0.151917</td>\n",
       "      <td>-0.823039</td>\n",
       "      <td>0.909066</td>\n",
       "      <td>-0.124749</td>\n",
       "      <td>-0.104093</td>\n",
       "      <td>0.005876</td>\n",
       "    </tr>\n",
       "    <tr>\n",
       "      <th>2212</th>\n",
       "      <td>1.904422</td>\n",
       "      <td>2.902916</td>\n",
       "      <td>0.909066</td>\n",
       "      <td>1.940508</td>\n",
       "      <td>0.241428</td>\n",
       "      <td>0.000604</td>\n",
       "    </tr>\n",
       "    <tr>\n",
       "      <th>2213</th>\n",
       "      <td>-1.016420</td>\n",
       "      <td>-0.823039</td>\n",
       "      <td>-0.928972</td>\n",
       "      <td>0.847643</td>\n",
       "      <td>1.450751</td>\n",
       "      <td>0.007368</td>\n",
       "    </tr>\n",
       "    <tr>\n",
       "      <th>2214</th>\n",
       "      <td>1.069896</td>\n",
       "      <td>-0.823039</td>\n",
       "      <td>0.909066</td>\n",
       "      <td>0.843341</td>\n",
       "      <td>-1.417072</td>\n",
       "      <td>0.002262</td>\n",
       "    </tr>\n",
       "    <tr>\n",
       "      <th>2215</th>\n",
       "      <td>1.236801</td>\n",
       "      <td>1.039938</td>\n",
       "      <td>0.909066</td>\n",
       "      <td>-1.161680</td>\n",
       "      <td>-0.311405</td>\n",
       "      <td>0.000109</td>\n",
       "    </tr>\n",
       "  </tbody>\n",
       "</table>\n",
       "<p>2216 rows × 6 columns</p>\n",
       "</div>"
      ],
      "text/plain": [
       "           Age      Kids     Teens  Enroll_age   Recency  MntWines/Income\n",
       "0     0.986443 -0.823039 -0.928972   -1.974875  0.310532         0.010922\n",
       "1     1.236801  1.039938  0.909066    1.665141 -0.380509         0.000237\n",
       "2     0.318822 -0.823039 -0.928972    0.172132 -0.795134         0.005949\n",
       "3    -1.266777  1.039938 -0.928972    1.923298 -0.795134         0.000413\n",
       "4    -1.016420  1.039938 -0.928972    0.821827  1.554407         0.002968\n",
       "...        ...       ...       ...         ...       ...              ...\n",
       "2211  0.151917 -0.823039  0.909066   -0.124749 -0.104093         0.005876\n",
       "2212  1.904422  2.902916  0.909066    1.940508  0.241428         0.000604\n",
       "2213 -1.016420 -0.823039 -0.928972    0.847643  1.450751         0.007368\n",
       "2214  1.069896 -0.823039  0.909066    0.843341 -1.417072         0.002262\n",
       "2215  1.236801  1.039938  0.909066   -1.161680 -0.311405         0.000109\n",
       "\n",
       "[2216 rows x 6 columns]"
      ]
     },
     "execution_count": 36,
     "metadata": {},
     "output_type": "execute_result"
    }
   ],
   "source": [
    "df7"
   ]
  },
  {
   "cell_type": "code",
   "execution_count": null,
   "metadata": {},
   "outputs": [],
   "source": []
  }
 ],
 "metadata": {
  "kernelspec": {
   "display_name": "Python 3",
   "language": "python",
   "name": "python3"
  },
  "language_info": {
   "codemirror_mode": {
    "name": "ipython",
    "version": 3
   },
   "file_extension": ".py",
   "mimetype": "text/x-python",
   "name": "python",
   "nbconvert_exporter": "python",
   "pygments_lexer": "ipython3",
   "version": "3.8.8"
  }
 },
 "nbformat": 4,
 "nbformat_minor": 4
}
